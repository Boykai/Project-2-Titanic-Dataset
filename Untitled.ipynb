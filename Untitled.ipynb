{
 "cells": [
  {
   "cell_type": "markdown",
   "metadata": {},
   "source": [
    "<header>\n",
    "    <h1>Project 2: Investigate a Dataset</h1>\n",
    "    <h6>By James Tooles</h6>\n",
    "    <h2><br>The Purpose of Investigation</h2>\n",
    "</header>\n",
    "<body>\n",
    "    <p>This project will conduct data analysis and create upon the 'Titanic Data' provided by Kaggle. The project will use Pandas and NumPy to attempt to answer and obtain insight into the questions below.</p>\n",
    "    <p>Question, Wrangle, Explore, Draw Conclusions, Communicate</p>\n",
    "</body>"
   ]
  },
  {
   "cell_type": "markdown",
   "metadata": {},
   "source": [
    "<header>\n",
    "    <h2>The Questions to Answer</h2>\n",
    "<header>\n",
    "<body>\n",
    "    <ul>\n",
    "        <li>What economic classes were most likely to survive?</li>\n",
    "        <li>What economic classes were most likely to not survive?</li>\n",
    "        <li>Where males or females more likely to survive?</li>\n",
    "        <li>Does the ticket fare paid effect the likelihood of survival?</li>\n",
    "    </ul>\n",
    "</body>"
   ]
  },
  {
   "cell_type": "markdown",
   "metadata": {},
   "source": [
    "<header>\n",
    "    <h2>The Titanic Dataset</h2>\n",
    "</header>\n",
    "<body>\n",
    "    <p>This dataset was provided by Udacity and was obtained from Kaggle. The feature descriptions are listed below for the 'Titanic Data'. To view the source of the dataset please see the following link as provided by <a href=\"https://www.kaggle.com/c/titanic/data\">Kaggle</a></p>\n",
    "    <h4>VARIABLE DESCRIPTIONS:</h4>\n",
    "    <ul>\n",
    "        <li>survival - Survival (0 = No; 1 = Yes)</li>\n",
    "        <li>pclass - Passenger Class (1 = 1st; 2 = 2nd; 3 = 3rd)</li>\n",
    "        <li>name - Name</li>\n",
    "        <li>sex - Sex</li>\n",
    "        <li>age - Age</li>\n",
    "        <li>sibsp - Number of Siblings/Spouses Aboard</li>\n",
    "        <li>parch - Number of Parents/Children Aboard</li>\n",
    "        <li>ticket - Ticket Number</li>\n",
    "        <li>fare - Passenger Fare</li>\n",
    "        <li>cabin - Cabin</li>\n",
    "        <li>embarked - Port of Embarkation (C = Cherbourg; Q = Queenstown; S = Southampton)</li>\n",
    "    </ul>\n",
    "    <h4>SPECIAL NOTES:</h4>\n",
    "    <p>Pclass is a proxy for socio-economic status (SES) 1st ~ Upper; 2nd ~ Middle; 3rd ~ Lower</p>\n",
    "    <p>Age is in Years; Fractional if Age less than One (1) If the Age is Estimated, it is in the form xx.5</p>\n",
    "    <p>With respect to the family relation variables (i.e. sibsp and parch) some relations were ignored.  The following are the definitions used for sibsp and parch.</p>\n",
    "    <p>Sibling:  Brother, Sister, Stepbrother, or Stepsister of Passenger Aboard Titanic\n",
    "       <br>Spouse:   Husband or Wife of Passenger Aboard Titanic (Mistresses and Fiances Ignored)\n",
    "       <br>Parent:   Mother or Father of Passenger Aboard Titanic\n",
    "       <br>Child:    Son, Daughter, Stepson, or Stepdaughter of Passenger Aboard Titanic</p>\n",
    "    <p>Other family relatives excluded from this study include cousins,\n",
    "nephews/nieces, aunts/uncles, and in-laws.  Some children travelled\n",
    "only with a nanny, therefore parch=0 for them.  As well, some\n",
    "travelled with very close friends or neighbors in a village, however,\n",
    "the definitions do not support such relations.</p>\n",
    "</body>"
   ]
  },
  {
   "cell_type": "markdown",
   "metadata": {},
   "source": []
  }
 ],
 "metadata": {
  "anaconda-cloud": {},
  "kernelspec": {
   "display_name": "Python [conda root]",
   "language": "python",
   "name": "conda-root-py"
  },
  "language_info": {
   "codemirror_mode": {
    "name": "ipython",
    "version": 2
   },
   "file_extension": ".py",
   "mimetype": "text/x-python",
   "name": "python",
   "nbconvert_exporter": "python",
   "pygments_lexer": "ipython2",
   "version": "2.7.12"
  }
 },
 "nbformat": 4,
 "nbformat_minor": 1
}
