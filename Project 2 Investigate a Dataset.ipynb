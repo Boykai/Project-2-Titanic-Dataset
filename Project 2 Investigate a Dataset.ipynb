{
 "cells": [
  {
   "cell_type": "markdown",
   "metadata": {},
   "source": [
    "<header>\n",
    "    <h1>Project 2: Investigate a Dataset</h1>\n",
    "    <h6>By James Tooles</h6>\n",
    "    <h2><br>The Purpose of Investigation</h2>\n",
    "</header>\n",
    "<body>\n",
    "    <p>This project will conduct data analysis and create upon the 'Titanic Data' provided by Kaggle. The project will use Pandas and NumPy to attempt to answer and obtain insight into the questions below.</p>\n",
    "    <p>Question, Wrangle, Explore, Draw Conclusions, Communicate</p>\n",
    "</body>"
   ]
  },
  {
   "cell_type": "markdown",
   "metadata": {},
   "source": [
    "<header>\n",
    "    <h2>The Questions to Answer</h2>\n",
    "<header>\n",
    "<body>\n",
    "    <ul>\n",
    "        <li>What economic classes were most likely to survive?</li>\n",
    "        <li>What economic classes were most likely to not survive?</li>\n",
    "        <li>Where males or females more likely to survive?</li>\n",
    "        <li>Does the ticket fare paid effect the likelihood of survival?</li>\n",
    "    </ul>\n",
    "</body>"
   ]
  },
  {
   "cell_type": "markdown",
   "metadata": {},
   "source": [
    "<header>\n",
    "    <h2>The Titanic Dataset</h2>\n",
    "</header>\n",
    "<body>\n",
    "    <p>This dataset was provided by Udacity and was obtained from Kaggle. The feature descriptions are listed below for the 'Titanic Data'. To view the source of the dataset please see the following link as provided by <a href=\"https://www.kaggle.com/c/titanic/data\">Kaggle</a></p>\n",
    "    <h4>VARIABLE DESCRIPTIONS:</h4>\n",
    "    <ul>\n",
    "        <li>survival - Survival (0 = No; 1 = Yes)</li>\n",
    "        <li>pclass - Passenger Class (1 = 1st; 2 = 2nd; 3 = 3rd)</li>\n",
    "        <li>name - Name</li>\n",
    "        <li>sex - Sex</li>\n",
    "        <li>age - Age</li>\n",
    "        <li>sibsp - Number of Siblings/Spouses Aboard</li>\n",
    "        <li>parch - Number of Parents/Children Aboard</li>\n",
    "        <li>ticket - Ticket Number</li>\n",
    "        <li>fare - Passenger Fare</li>\n",
    "        <li>cabin - Cabin</li>\n",
    "        <li>embarked - Port of Embarkation (C = Cherbourg; Q = Queenstown; S = Southampton)</li>\n",
    "    </ul>\n",
    "    <h4>SPECIAL NOTES:</h4>\n",
    "    <p>Pclass is a proxy for socio-economic status (SES) 1st ~ Upper; 2nd ~ Middle; 3rd ~ Lower</p>\n",
    "    <p>Age is in Years; Fractional if Age less than One (1) If the Age is Estimated, it is in the form xx.5</p>\n",
    "    <p>With respect to the family relation variables (i.e. sibsp and parch) some relations were ignored.  The following are the definitions used for sibsp and parch.</p>\n",
    "    <p>Sibling:  Brother, Sister, Stepbrother, or Stepsister of Passenger Aboard Titanic\n",
    "       <br>Spouse:   Husband or Wife of Passenger Aboard Titanic (Mistresses and Fiances Ignored)\n",
    "       <br>Parent:   Mother or Father of Passenger Aboard Titanic\n",
    "       <br>Child:    Son, Daughter, Stepson, or Stepdaughter of Passenger Aboard Titanic</p>\n",
    "    <p>Other family relatives excluded from this study include cousins,\n",
    "nephews/nieces, aunts/uncles, and in-laws.  Some children travelled\n",
    "only with a nanny, therefore parch=0 for them.  As well, some\n",
    "travelled with very close friends or neighbors in a village, however,\n",
    "the definitions do not support such relations.</p>\n",
    "</body>"
   ]
  },
  {
   "cell_type": "markdown",
   "metadata": {},
   "source": [
    "<header>\n",
    "    <h2>Wrangling The Titanic</h2>\n",
    "</header>\n",
    "<body>\n",
    "    <p>The Titatnic Dataset will now be openned, viewed, and cleaned if needed.</p>\n",
    "</body>"
   ]
  },
  {
   "cell_type": "code",
   "execution_count": 1,
   "metadata": {
    "collapsed": false
   },
   "outputs": [
    {
     "data": {
      "text/html": [
       "<div>\n",
       "<table border=\"1\" class=\"dataframe\">\n",
       "  <thead>\n",
       "    <tr style=\"text-align: right;\">\n",
       "      <th></th>\n",
       "      <th>PassengerId</th>\n",
       "      <th>Survived</th>\n",
       "      <th>Pclass</th>\n",
       "      <th>Name</th>\n",
       "      <th>Sex</th>\n",
       "      <th>Age</th>\n",
       "      <th>SibSp</th>\n",
       "      <th>Parch</th>\n",
       "      <th>Ticket</th>\n",
       "      <th>Fare</th>\n",
       "      <th>Cabin</th>\n",
       "      <th>Embarked</th>\n",
       "    </tr>\n",
       "  </thead>\n",
       "  <tbody>\n",
       "    <tr>\n",
       "      <th>0</th>\n",
       "      <td>1</td>\n",
       "      <td>0</td>\n",
       "      <td>3</td>\n",
       "      <td>Braund, Mr. Owen Harris</td>\n",
       "      <td>male</td>\n",
       "      <td>22.0</td>\n",
       "      <td>1</td>\n",
       "      <td>0</td>\n",
       "      <td>A/5 21171</td>\n",
       "      <td>7.2500</td>\n",
       "      <td>NaN</td>\n",
       "      <td>S</td>\n",
       "    </tr>\n",
       "    <tr>\n",
       "      <th>1</th>\n",
       "      <td>2</td>\n",
       "      <td>1</td>\n",
       "      <td>1</td>\n",
       "      <td>Cumings, Mrs. John Bradley (Florence Briggs Th...</td>\n",
       "      <td>female</td>\n",
       "      <td>38.0</td>\n",
       "      <td>1</td>\n",
       "      <td>0</td>\n",
       "      <td>PC 17599</td>\n",
       "      <td>71.2833</td>\n",
       "      <td>C85</td>\n",
       "      <td>C</td>\n",
       "    </tr>\n",
       "    <tr>\n",
       "      <th>2</th>\n",
       "      <td>3</td>\n",
       "      <td>1</td>\n",
       "      <td>3</td>\n",
       "      <td>Heikkinen, Miss. Laina</td>\n",
       "      <td>female</td>\n",
       "      <td>26.0</td>\n",
       "      <td>0</td>\n",
       "      <td>0</td>\n",
       "      <td>STON/O2. 3101282</td>\n",
       "      <td>7.9250</td>\n",
       "      <td>NaN</td>\n",
       "      <td>S</td>\n",
       "    </tr>\n",
       "    <tr>\n",
       "      <th>3</th>\n",
       "      <td>4</td>\n",
       "      <td>1</td>\n",
       "      <td>1</td>\n",
       "      <td>Futrelle, Mrs. Jacques Heath (Lily May Peel)</td>\n",
       "      <td>female</td>\n",
       "      <td>35.0</td>\n",
       "      <td>1</td>\n",
       "      <td>0</td>\n",
       "      <td>113803</td>\n",
       "      <td>53.1000</td>\n",
       "      <td>C123</td>\n",
       "      <td>S</td>\n",
       "    </tr>\n",
       "    <tr>\n",
       "      <th>4</th>\n",
       "      <td>5</td>\n",
       "      <td>0</td>\n",
       "      <td>3</td>\n",
       "      <td>Allen, Mr. William Henry</td>\n",
       "      <td>male</td>\n",
       "      <td>35.0</td>\n",
       "      <td>0</td>\n",
       "      <td>0</td>\n",
       "      <td>373450</td>\n",
       "      <td>8.0500</td>\n",
       "      <td>NaN</td>\n",
       "      <td>S</td>\n",
       "    </tr>\n",
       "  </tbody>\n",
       "</table>\n",
       "</div>"
      ],
      "text/plain": [
       "   PassengerId  Survived  Pclass  \\\n",
       "0            1         0       3   \n",
       "1            2         1       1   \n",
       "2            3         1       3   \n",
       "3            4         1       1   \n",
       "4            5         0       3   \n",
       "\n",
       "                                                Name     Sex   Age  SibSp  \\\n",
       "0                            Braund, Mr. Owen Harris    male  22.0      1   \n",
       "1  Cumings, Mrs. John Bradley (Florence Briggs Th...  female  38.0      1   \n",
       "2                             Heikkinen, Miss. Laina  female  26.0      0   \n",
       "3       Futrelle, Mrs. Jacques Heath (Lily May Peel)  female  35.0      1   \n",
       "4                           Allen, Mr. William Henry    male  35.0      0   \n",
       "\n",
       "   Parch            Ticket     Fare Cabin Embarked  \n",
       "0      0         A/5 21171   7.2500   NaN        S  \n",
       "1      0          PC 17599  71.2833   C85        C  \n",
       "2      0  STON/O2. 3101282   7.9250   NaN        S  \n",
       "3      0            113803  53.1000  C123        S  \n",
       "4      0            373450   8.0500   NaN        S  "
      ]
     },
     "execution_count": 1,
     "metadata": {},
     "output_type": "execute_result"
    }
   ],
   "source": [
    "import pandas as pd\n",
    "\n",
    "#Read in 'titanic-data.csv and store as a pandas dataframe 'df'\n",
    "#Print and view head of 'df'\n",
    "df = pd.read_csv('titanic-data.csv')\n",
    "df.head()\n"
   ]
  },
  {
   "cell_type": "markdown",
   "metadata": {},
   "source": [
    "<header>\n",
    "    <h4>Cleaning Missing Varible Entries</h4>\n",
    "</header>\n",
    "<body>\n",
    "    <p>Recalling the questions of interest below:</p>\n",
    "        <ul>\n",
    "            <li>What economic classes were most likely to survive?</li>\n",
    "            <li>What economic classes were most likely to not survive?</li>\n",
    "            <li>Where males or females more likely to survive?</li>\n",
    "            <li>Does the ticket fare paid effect the likelihood of survival?</li>\n",
    "        </ul>\n",
    "    <p>The following features are a concern while trying to address these questions:</p>\n",
    "        <ul>\n",
    "            <li>Survived</li>\n",
    "            <li>Pclass</li>\n",
    "            <li>Sex</li>\n",
    "            <li>Ticket</li>\n",
    "        </ul>\n",
    "</body>\n",
    "\n"
   ]
  },
  {
   "cell_type": "code",
   "execution_count": 2,
   "metadata": {
    "collapsed": false
   },
   "outputs": [
    {
     "data": {
      "text/plain": [
       "(891, 12)"
      ]
     },
     "execution_count": 2,
     "metadata": {},
     "output_type": "execute_result"
    }
   ],
   "source": [
    "#Get the df (column, row) dimentions\n",
    "df.shape"
   ]
  },
  {
   "cell_type": "code",
   "execution_count": 3,
   "metadata": {
    "collapsed": false
   },
   "outputs": [
    {
     "data": {
      "text/html": [
       "<div>\n",
       "<table border=\"1\" class=\"dataframe\">\n",
       "  <thead>\n",
       "    <tr style=\"text-align: right;\">\n",
       "      <th></th>\n",
       "      <th>PassengerId</th>\n",
       "      <th>Survived</th>\n",
       "      <th>Pclass</th>\n",
       "      <th>Age</th>\n",
       "      <th>SibSp</th>\n",
       "      <th>Parch</th>\n",
       "      <th>Fare</th>\n",
       "    </tr>\n",
       "  </thead>\n",
       "  <tbody>\n",
       "    <tr>\n",
       "      <th>count</th>\n",
       "      <td>891.000000</td>\n",
       "      <td>891.000000</td>\n",
       "      <td>891.000000</td>\n",
       "      <td>714.000000</td>\n",
       "      <td>891.000000</td>\n",
       "      <td>891.000000</td>\n",
       "      <td>891.000000</td>\n",
       "    </tr>\n",
       "    <tr>\n",
       "      <th>mean</th>\n",
       "      <td>446.000000</td>\n",
       "      <td>0.383838</td>\n",
       "      <td>2.308642</td>\n",
       "      <td>29.699118</td>\n",
       "      <td>0.523008</td>\n",
       "      <td>0.381594</td>\n",
       "      <td>32.204208</td>\n",
       "    </tr>\n",
       "    <tr>\n",
       "      <th>std</th>\n",
       "      <td>257.353842</td>\n",
       "      <td>0.486592</td>\n",
       "      <td>0.836071</td>\n",
       "      <td>14.526497</td>\n",
       "      <td>1.102743</td>\n",
       "      <td>0.806057</td>\n",
       "      <td>49.693429</td>\n",
       "    </tr>\n",
       "    <tr>\n",
       "      <th>min</th>\n",
       "      <td>1.000000</td>\n",
       "      <td>0.000000</td>\n",
       "      <td>1.000000</td>\n",
       "      <td>0.420000</td>\n",
       "      <td>0.000000</td>\n",
       "      <td>0.000000</td>\n",
       "      <td>0.000000</td>\n",
       "    </tr>\n",
       "    <tr>\n",
       "      <th>25%</th>\n",
       "      <td>223.500000</td>\n",
       "      <td>0.000000</td>\n",
       "      <td>2.000000</td>\n",
       "      <td>20.125000</td>\n",
       "      <td>0.000000</td>\n",
       "      <td>0.000000</td>\n",
       "      <td>7.910400</td>\n",
       "    </tr>\n",
       "    <tr>\n",
       "      <th>50%</th>\n",
       "      <td>446.000000</td>\n",
       "      <td>0.000000</td>\n",
       "      <td>3.000000</td>\n",
       "      <td>28.000000</td>\n",
       "      <td>0.000000</td>\n",
       "      <td>0.000000</td>\n",
       "      <td>14.454200</td>\n",
       "    </tr>\n",
       "    <tr>\n",
       "      <th>75%</th>\n",
       "      <td>668.500000</td>\n",
       "      <td>1.000000</td>\n",
       "      <td>3.000000</td>\n",
       "      <td>38.000000</td>\n",
       "      <td>1.000000</td>\n",
       "      <td>0.000000</td>\n",
       "      <td>31.000000</td>\n",
       "    </tr>\n",
       "    <tr>\n",
       "      <th>max</th>\n",
       "      <td>891.000000</td>\n",
       "      <td>1.000000</td>\n",
       "      <td>3.000000</td>\n",
       "      <td>80.000000</td>\n",
       "      <td>8.000000</td>\n",
       "      <td>6.000000</td>\n",
       "      <td>512.329200</td>\n",
       "    </tr>\n",
       "  </tbody>\n",
       "</table>\n",
       "</div>"
      ],
      "text/plain": [
       "       PassengerId    Survived      Pclass         Age       SibSp  \\\n",
       "count   891.000000  891.000000  891.000000  714.000000  891.000000   \n",
       "mean    446.000000    0.383838    2.308642   29.699118    0.523008   \n",
       "std     257.353842    0.486592    0.836071   14.526497    1.102743   \n",
       "min       1.000000    0.000000    1.000000    0.420000    0.000000   \n",
       "25%     223.500000    0.000000    2.000000   20.125000    0.000000   \n",
       "50%     446.000000    0.000000    3.000000   28.000000    0.000000   \n",
       "75%     668.500000    1.000000    3.000000   38.000000    1.000000   \n",
       "max     891.000000    1.000000    3.000000   80.000000    8.000000   \n",
       "\n",
       "            Parch        Fare  \n",
       "count  891.000000  891.000000  \n",
       "mean     0.381594   32.204208  \n",
       "std      0.806057   49.693429  \n",
       "min      0.000000    0.000000  \n",
       "25%      0.000000    7.910400  \n",
       "50%      0.000000   14.454200  \n",
       "75%      0.000000   31.000000  \n",
       "max      6.000000  512.329200  "
      ]
     },
     "execution_count": 3,
     "metadata": {},
     "output_type": "execute_result"
    }
   ],
   "source": [
    "#Get the numerical df statistical descriptions\n",
    "#Compare count with df shape dimentions\n",
    "#Sanity check min, max df descriptions with given features\n",
    "df.describe()"
   ]
  },
  {
   "cell_type": "markdown",
   "metadata": {},
   "source": [
    "<body>\n",
    "    <p>The following numerical features are a concern while trying to address these questions:</p>\n",
    "        <ul>\n",
    "            <li>Survived</li>\n",
    "            <li>Pclass</li>\n",
    "            <li>Ticket</li>\n",
    "        </ul>\n",
    "     <p>None of these features seem to be missing any values as shown above.<p>\n",
    "     <p>The last variable of concern is the 'Sex' variable, which will be examined below</p>\n",
    "</body>"
   ]
  },
  {
   "cell_type": "code",
   "execution_count": 4,
   "metadata": {
    "collapsed": false
   },
   "outputs": [
    {
     "data": {
      "text/plain": [
       "PassengerId    891\n",
       "Survived       891\n",
       "Pclass         891\n",
       "Name           891\n",
       "Sex            891\n",
       "Age            714\n",
       "SibSp          891\n",
       "Parch          891\n",
       "Ticket         891\n",
       "Fare           891\n",
       "Cabin          204\n",
       "Embarked       889\n",
       "dtype: int64"
      ]
     },
     "execution_count": 4,
     "metadata": {},
     "output_type": "execute_result"
    }
   ],
   "source": [
    "#Get the count of df rows for each feature\n",
    "#Compare count with df shape dimentions\n",
    "df.count()"
   ]
  },
  {
   "cell_type": "markdown",
   "metadata": {},
   "source": [
    "<header>\n",
    "    <h4>Cleaned Varible Entries</h4>\n",
    "</header>\n",
    "<body>\n",
    "    <p>Recalling the questions of interest below:</p>\n",
    "        <ul>\n",
    "            <li>What economic classes were most likely to survive?</li>\n",
    "            <li>What economic classes were most likely to not survive?</li>\n",
    "            <li>Where males or females more likely to survive?</li>\n",
    "            <li>Does the ticket fare paid effect the likelihood of survival?</li>\n",
    "        </ul>\n",
    "    <p>The following features are a concern while trying to address these questions:</p>\n",
    "        <ul>\n",
    "            <li>Survived</li>\n",
    "            <li>Pclass</li>\n",
    "            <li>Sex</li>\n",
    "            <li>Ticket</li>\n",
    "        </ul>\n",
    "    <p>The following features are missing values but, are not a concern for answering the questions of interest:</p>\n",
    "    <ul>\n",
    "        <li>Age</li>\n",
    "        <li>Cabin</li>\n",
    "        <li>Embarked</li>\n",
    "    </ul>\n",
    "    <p>The data is now clean, for the purposes of answering the questions above.</p>\n",
    "</body>      \n",
    "   "
   ]
  },
  {
   "cell_type": "markdown",
   "metadata": {
    "collapsed": true
   },
   "source": [
    "<header>\n",
    "    <h2>Exploring The Titanic</h2>\n",
    "</header>\n",
    "<body>\n",
    "    <p>The Titatnic Dataset will now be explored. The features of interested will be displayed visually to gain further insight to obtain the knownledge needed to address the questions of interest.</p>\n",
    "    <p>Starting with the first two questions:</p>\n",
    "    <ol>\n",
    "        <li>What economic classes were most likely to survive?</li>\n",
    "        <li>What economic classes were most likely to not survive?</li>\n",
    "    </ol>\n",
    "</body>"
   ]
  },
  {
   "cell_type": "code",
   "execution_count": 35,
   "metadata": {
    "collapsed": false
   },
   "outputs": [
    {
     "name": "stdout",
     "output_type": "stream",
     "text": [
      "Populating the interactive namespace from numpy and matplotlib\n"
     ]
    },
    {
     "data": {
      "image/png": "[encoded data removed]",
      "text/plain": [
       "<matplotlib.figure.Figure at 0x10738da0>"
      ]
     },
     "metadata": {},
     "output_type": "display_data"
    },
    {
     "data": {
      "image/png": "[encoded data removed]",
      "text/plain": [
       "<matplotlib.figure.Figure at 0x12d18c88>"
      ]
     },
     "metadata": {},
     "output_type": "display_data"
    },
    {
     "data": {
      "image/png": "[encoded data removed]",
      "text/plain": [
       "<matplotlib.figure.Figure at 0xe5c0ba8>"
      ]
     },
     "metadata": {},
     "output_type": "display_data"
    },
    {
     "data": {
      "image/png": "[encoded data removed]",
      "text/plain": [
       "<matplotlib.figure.Figure at 0xd91ccc0>"
      ]
     },
     "metadata": {},
     "output_type": "display_data"
    }
   ],
   "source": [
    "%pylab inline\n",
    "import matplotlib.pyplot as plt\n",
    "import numpy as np\n",
    "import seaborn as sns\n",
    "\n",
    "def showHist(data, set_bins, set_xlab = '', set_ylab = 'Count', set_title = ''):\n",
    "    \"\"\"\n",
    "    Plots a histrogram for the pandas series or numpy array variable.\n",
    "    \n",
    "    data: data to be plotted into a histogram (non-empty pandas series or numpy array)\n",
    "    set_bins: number of bins in which to group the data (integer > 0)\n",
    "    set_xlab: label to display along the xaxis (string)\n",
    "    set_ylab: label to display along the yaxis (string)\n",
    "    set_title: title to display above histogram (string)\n",
    "    \n",
    "    @return: null\n",
    "    \"\"\"\n",
    "    plt.hist(data, bins = set_bins)\n",
    "    plt.xlabel(set_xlab)\n",
    "    plt.ylabel(set_ylab)\n",
    "    plt.title(set_title)\n",
    "    plt.grid(True)\n",
    "    plt.legend()\n",
    "    plt.show()\n",
    "\n",
    "\n",
    "#Display histogram of Survived data\n",
    "showHist(df['Survived'], 2, set_xlab = 'Survived', set_title = 'Titanic Survivor Distribution')\n",
    "\n",
    "#Display histogram of Pclass data\n",
    "showHist(df['Pclass'], 3, set_xlab = 'Pclass', set_title = 'Titanic Social-Economic Class Distribution')\n",
    "\n",
    "#Get only survivor data, and plot Pclass for survivors\n",
    "df_survived = df[df['Survived'] == 1]\n",
    "showHist(df_survived['Pclass'], 3, set_xlab = 'Pclass', set_title = 'Titanic Survivor Social-Economic Class Distribution')\n",
    "\n",
    "#Get only died data, and plot Pclass for survivors\n",
    "df_died = df[df['Survived'] == 0]\n",
    "showHist(df_died['Pclass'], 3, set_xlab = 'Pclass', set_title = 'Titanic Deaths Social-Economic Class Distribution')\n",
    "\n"
   ]
  },
  {
   "cell_type": "code",
   "execution_count": 36,
   "metadata": {
    "collapsed": false
   },
   "outputs": [
    {
     "data": {
      "text/plain": [
       "<matplotlib.legend.Legend at 0x13004978>"
      ]
     },
     "execution_count": 36,
     "metadata": {},
     "output_type": "execute_result"
    },
    {
     "data": {
      "image/png": "[encoded data removed]",
      "text/plain": [
       "<matplotlib.figure.Figure at 0x12ca02e8>"
      ]
     },
     "metadata": {},
     "output_type": "display_data"
    }
   ],
   "source": [
    "plt.hist([df['Pclass'], df_survived['Pclass'], df_died['Pclass']], 10, \n",
    "                            color=['blue', 'green', 'red'],\n",
    "                            label=['Total', 'Survived', 'Died'])\n",
    "plt.xlabel('Classes')\n",
    "plt.ylabel('Count')\n",
    "plt.title('Titanic Survivors vs Deaths for Each Social-Economic Class')\n",
    "plt.grid(True)\n",
    "plt.legend(loc = 2)"
   ]
  },
  {
   "cell_type": "code",
   "execution_count": 38,
   "metadata": {
    "collapsed": false
   },
   "outputs": [
    {
     "data": {
      "text/plain": [
       "<matplotlib.legend.Legend at 0x13297128>"
      ]
     },
     "execution_count": 38,
     "metadata": {},
     "output_type": "execute_result"
    },
    {
     "data": {
      "image/png": "[encoded data removed]",
      "text/plain": [
       "<matplotlib.figure.Figure at 0x132c4160>"
      ]
     },
     "metadata": {},
     "output_type": "display_data"
    }
   ],
   "source": [
    "plt.hist([df['Pclass'], df_survived['Pclass'], df_died['Pclass']], 10, normed = 1, \n",
    "                            color=['blue', 'green', 'red'],\n",
    "                            label=['Total', 'Survived', 'Died'])\n",
    "plt.xlabel('Classes')\n",
    "plt.ylabel('Normalized Count')\n",
    "plt.title('Normalized Titanic Survivors vs Deaths for Each Social-Economic Class')\n",
    "plt.grid(True)\n",
    "plt.legend(loc = 2)"
   ]
  },
  {
   "cell_type": "code",
   "execution_count": null,
   "metadata": {
    "collapsed": true
   },
   "outputs": [],
   "source": []
  }
 ],
 "metadata": {
  "anaconda-cloud": {},
  "kernelspec": {
   "display_name": "Python [conda root]",
   "language": "python",
   "name": "conda-root-py"
  },
  "language_info": {
   "codemirror_mode": {
    "name": "ipython",
    "version": 2
   },
   "file_extension": ".py",
   "mimetype": "text/x-python",
   "name": "python",
   "nbconvert_exporter": "python",
   "pygments_lexer": "ipython2",
   "version": "2.7.12"
  }
 },
 "nbformat": 4,
 "nbformat_minor": 1
}
